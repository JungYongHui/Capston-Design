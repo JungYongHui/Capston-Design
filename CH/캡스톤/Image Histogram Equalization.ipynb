{
 "cells": [
  {
   "cell_type": "code",
   "execution_count": 1,
   "id": "brilliant-water",
   "metadata": {},
   "outputs": [
    {
     "data": {
      "text/plain": [
       "'4.5.1'"
      ]
     },
     "execution_count": 1,
     "metadata": {},
     "output_type": "execute_result"
    }
   ],
   "source": [
    "import cv2\n",
    "\n",
    "cv2.__version__"
   ]
  },
  {
   "cell_type": "code",
   "execution_count": null,
   "id": "productive-powder",
   "metadata": {},
   "outputs": [],
   "source": [
    "import numpy as np\n",
    "\n",
    "# create a CLAHE object (Arguments are optional).\n",
    "def clahe():\n",
    "    img = cv2.imread('4-1.jpg',cv2.IMREAD_GRAYSCALE)\n",
    "    clahe = cv2.createCLAHE(clipLimit=2.0, tileGridSize=(30,30)) #tileGridSize에 따라 균일화 변경\n",
    "    img2=clahe.apply(img)\n",
    "    \n",
    "    #img1 = np.array(img)\n",
    "    #img3 = np.array(img2)\n",
    "    \n",
    "    res=np.hstack((img,img2))\n",
    "    res = np.array(img2)\n",
    "    cv2.imshow(\"clahe\",res)\n",
    "    cv2.waitKey(0)\n",
    "    cv2.destroyAllWindows()\n",
    "\n",
    "clahe()\n"
   ]
  },
  {
   "cell_type": "code",
   "execution_count": null,
   "id": "double-making",
   "metadata": {},
   "outputs": [],
   "source": [
    "import glob"
   ]
  },
  {
   "cell_type": "code",
   "execution_count": null,
   "id": "theoretical-debut",
   "metadata": {},
   "outputs": [],
   "source": [
    "images = glob.glob('{1}/*.jpg')"
   ]
  },
  {
   "cell_type": "code",
   "execution_count": null,
   "id": "diverse-fundamentals",
   "metadata": {},
   "outputs": [],
   "source": [
    "for fname in images:\n",
    "    def clahe():\n",
    "    img = cv2.imread('fname',cv2.IMREAD_GRAYSCALE)\n",
    "    clahe = cv2.createCLAHE(clipLimit=2.0, tileGridSize=(30,30)) #tileGridSize에 따라 균일화 변경\n",
    "    img2=clahe.apply(img)\n",
    "    \n",
    "    #img1 = np.array(img)\n",
    "    #img3 = np.array(img2)\n",
    "    \n",
    "    res=np.hstack((img,img2))\n",
    "    res = np.array(img2)\n",
    "    cv2.imshow(\"clahe\",res)\n",
    "    cv2.waitKey(0)\n",
    "    cv2.destroyAllWindows()\n",
    "    cv2.imwrite('images/fname.jpg', grayImg)\n",
    "\n",
    "\n",
    "\n",
    "clahe()\n"
   ]
  }
 ],
 "metadata": {
  "kernelspec": {
   "display_name": "capston",
   "language": "python",
   "name": "capston"
  },
  "language_info": {
   "codemirror_mode": {
    "name": "ipython",
    "version": 3
   },
   "file_extension": ".py",
   "mimetype": "text/x-python",
   "name": "python",
   "nbconvert_exporter": "python",
   "pygments_lexer": "ipython3",
   "version": "3.6.13"
  }
 },
 "nbformat": 4,
 "nbformat_minor": 5
}
